{
 "cells": [
  {
   "cell_type": "code",
   "execution_count": 67,
   "metadata": {
    "collapsed": false
   },
   "outputs": [],
   "source": [
    "import sys\n",
    "reload(sys)\n",
    "sys.setdefaultencoding('utf-8')\n",
    "#1 Add Padding Around String\n",
    "\n",
    "#https://docs.python.org/3/library/string.html#format-specification-mini-language\n",
    "\n",
    "text = 'Chapter 1'\n"
   ]
  },
  {
   "cell_type": "code",
   "execution_count": 26,
   "metadata": {
    "collapsed": false
   },
   "outputs": [
    {
     "data": {
      "text/plain": [
       "'Chapter 1           '"
      ]
     },
     "execution_count": 26,
     "metadata": {},
     "output_type": "execute_result"
    }
   ],
   "source": [
    "#left align\n",
    "\n",
    "'{:<20}'.format(text)"
   ]
  },
  {
   "cell_type": "code",
   "execution_count": 27,
   "metadata": {
    "collapsed": false
   },
   "outputs": [
    {
     "data": {
      "text/plain": [
       "'           Chapter 1'"
      ]
     },
     "execution_count": 27,
     "metadata": {},
     "output_type": "execute_result"
    }
   ],
   "source": [
    "#Right Align\n",
    "\n",
    "'{:>20}'.format(text)"
   ]
  },
  {
   "cell_type": "code",
   "execution_count": 29,
   "metadata": {
    "collapsed": false
   },
   "outputs": [
    {
     "data": {
      "text/plain": [
       "'     Chapter 1      '"
      ]
     },
     "execution_count": 29,
     "metadata": {},
     "output_type": "execute_result"
    }
   ],
   "source": [
    "#Center Align\n",
    "'{:^20}'.format(text)"
   ]
  },
  {
   "cell_type": "code",
   "execution_count": 30,
   "metadata": {
    "collapsed": false
   },
   "outputs": [
    {
     "data": {
      "text/plain": [
       "'_____Chapter 1______'"
      ]
     },
     "execution_count": 30,
     "metadata": {},
     "output_type": "execute_result"
    }
   ],
   "source": [
    "#Align with some character\n",
    "'{:_^20}'.format(text)"
   ]
  },
  {
   "cell_type": "code",
   "execution_count": 32,
   "metadata": {
    "collapsed": false
   },
   "outputs": [
    {
     "data": {
      "text/plain": [
       "'     Chapter 1      '"
      ]
     },
     "execution_count": 32,
     "metadata": {},
     "output_type": "execute_result"
    }
   ],
   "source": [
    "#Align with some character\n",
    "'{:^20}'.format(text)"
   ]
  },
  {
   "cell_type": "code",
   "execution_count": 33,
   "metadata": {
    "collapsed": true
   },
   "outputs": [],
   "source": [
    "#2  Chain Together Lists"
   ]
  },
  {
   "cell_type": "code",
   "execution_count": 34,
   "metadata": {
    "collapsed": true
   },
   "outputs": [],
   "source": [
    "from itertools import chain"
   ]
  },
  {
   "cell_type": "code",
   "execution_count": 38,
   "metadata": {
    "collapsed": true
   },
   "outputs": [],
   "source": [
    "# Create a list of allies\n",
    "allies = ['Spain', 'Germany', 'Namibia', 'Austria']\n",
    "\n",
    "# Create a list of enemies\n",
    "enemies = ['Mexico', 'United Kingdom', 'France','PK']"
   ]
  },
  {
   "cell_type": "code",
   "execution_count": 39,
   "metadata": {
    "collapsed": false
   },
   "outputs": [
    {
     "name": "stdout",
     "output_type": "stream",
     "text": [
      "Spain\n",
      "Germany\n",
      "Namibia\n",
      "Austria\n",
      "Mexico\n",
      "United Kingdom\n",
      "France\n",
      "PK\n"
     ]
    }
   ],
   "source": [
    "# For each country in allies and enemies\n",
    "for country in chain(allies, enemies):\n",
    "    # print the country\n",
    "    print(country)"
   ]
  },
  {
   "cell_type": "code",
   "execution_count": 40,
   "metadata": {
    "collapsed": false
   },
   "outputs": [
    {
     "name": "stdout",
     "output_type": "stream",
     "text": [
      "Spain Mexico\n",
      "Germany United Kingdom\n",
      "Namibia France\n",
      "Austria PK\n"
     ]
    }
   ],
   "source": [
    "# For each country in allies and enemies\n",
    "for i, j in zip(allies, enemies):\n",
    "    # print the country\n",
    "    print(i+\" \"+j)"
   ]
  },
  {
   "cell_type": "code",
   "execution_count": 41,
   "metadata": {
    "collapsed": true
   },
   "outputs": [],
   "source": [
    "#3  Compare Two Dictionaries - Hashtables - o(1) for any operations"
   ]
  },
  {
   "cell_type": "code",
   "execution_count": 42,
   "metadata": {
    "collapsed": true
   },
   "outputs": [],
   "source": [
    "importers = {'El Salvador' : 1234,\n",
    "             'Nicaragua' : 152,\n",
    "             'Spain' : 252\n",
    "            }\n",
    "\n",
    "exporters = {'Spain' : 252,\n",
    "             'Germany' : 251,\n",
    "             'Italy' : 1563\n",
    "             }"
   ]
  },
  {
   "cell_type": "code",
   "execution_count": 48,
   "metadata": {
    "collapsed": false
   },
   "outputs": [
    {
     "data": {
      "text/plain": [
       "['Italy', 'Germany', 'Spain']"
      ]
     },
     "execution_count": 48,
     "metadata": {},
     "output_type": "execute_result"
    }
   ],
   "source": [
    "# Find the intersection of importers and exporters - Find Duplicate Keys\n",
    "importers.keys() and exporters.keys()"
   ]
  },
  {
   "cell_type": "code",
   "execution_count": 57,
   "metadata": {
    "collapsed": false
   },
   "outputs": [],
   "source": [
    "#Find Difference In Keys\n"
   ]
  },
  {
   "cell_type": "code",
   "execution_count": 59,
   "metadata": {
    "collapsed": false
   },
   "outputs": [
    {
     "data": {
      "text/plain": [
       "[('Italy', 1563), ('Germany', 251), ('Spain', 252)]"
      ]
     },
     "execution_count": 59,
     "metadata": {},
     "output_type": "execute_result"
    }
   ],
   "source": [
    "#Find Key, Values Pairs In Common - Wrong\n",
    "importers.items() and exporters.items()"
   ]
  },
  {
   "cell_type": "code",
   "execution_count": 61,
   "metadata": {
    "collapsed": false
   },
   "outputs": [],
   "source": [
    "#4 Convert HTML Characters To Strings\n",
    "import html"
   ]
  },
  {
   "cell_type": "code",
   "execution_count": 70,
   "metadata": {
    "collapsed": false
   },
   "outputs": [
    {
     "data": {
      "text/plain": [
       "'This item costs &#165;400 or &#163;4.'"
      ]
     },
     "execution_count": 70,
     "metadata": {},
     "output_type": "execute_result"
    }
   ],
   "source": [
    "### Create Text\n",
    "text = 'This item costs &#165;400 or &#163;4.'\n",
    "text"
   ]
  },
  {
   "cell_type": "code",
   "execution_count": 71,
   "metadata": {
    "collapsed": false
   },
   "outputs": [],
   "source": [
    "# 5                Create A New File Then Write To It"
   ]
  },
  {
   "cell_type": "code",
   "execution_count": 76,
   "metadata": {
    "collapsed": false
   },
   "outputs": [],
   "source": [
    "# Create a file if it doesn't already exist\n",
    "with open('file.txt', 'wt') as f:\n",
    "    # Write to the file\n",
    "    f.write('This file now exsits!')\n",
    "    # Close the connection to the file\n",
    "    f.close()"
   ]
  },
  {
   "cell_type": "code",
   "execution_count": 77,
   "metadata": {
    "collapsed": true
   },
   "outputs": [],
   "source": [
    "# Open the file\n",
    "with open('file.txt', 'rt') as f:\n",
    "    # Read the data in the file\n",
    "    data = f.read()\n",
    "    # Close the connection to the file\n",
    "    f.close()"
   ]
  },
  {
   "cell_type": "code",
   "execution_count": 78,
   "metadata": {
    "collapsed": false
   },
   "outputs": [
    {
     "data": {
      "text/plain": [
       "'This file now exsits!'"
      ]
     },
     "execution_count": 78,
     "metadata": {},
     "output_type": "execute_result"
    }
   ],
   "source": [
    "# View the data in the file\n",
    "data"
   ]
  },
  {
   "cell_type": "code",
   "execution_count": 81,
   "metadata": {
    "collapsed": false
   },
   "outputs": [],
   "source": [
    "# Import the os package\n",
    "import os\n",
    "\n",
    "# Delete the file\n",
    "if os.path.exists('file.txt'):\n",
    "    os.remove('file.txt')"
   ]
  },
  {
   "cell_type": "code",
   "execution_count": null,
   "metadata": {
    "collapsed": true
   },
   "outputs": [],
   "source": []
  },
  {
   "cell_type": "code",
   "execution_count": 82,
   "metadata": {
    "collapsed": true
   },
   "outputs": [],
   "source": [
    "#6   Create A Temporary File"
   ]
  },
  {
   "cell_type": "code",
   "execution_count": 83,
   "metadata": {
    "collapsed": true
   },
   "outputs": [],
   "source": [
    "from tempfile import NamedTemporaryFile"
   ]
  },
  {
   "cell_type": "code",
   "execution_count": 84,
   "metadata": {
    "collapsed": true
   },
   "outputs": [],
   "source": [
    "f = NamedTemporaryFile('w+t')"
   ]
  },
  {
   "cell_type": "code",
   "execution_count": 85,
   "metadata": {
    "collapsed": true
   },
   "outputs": [],
   "source": [
    "# Write to the file, the output is the number of characters\n",
    "f.write('Nobody lived on Deadweather but us and the pirates. It wasn’t hard to understand why.')"
   ]
  },
  {
   "cell_type": "code",
   "execution_count": 86,
   "metadata": {
    "collapsed": false
   },
   "outputs": [
    {
     "data": {
      "text/plain": [
       "'/var/folders/dw/9cgvsttx3610cnwcqfj575gxqj5jzg/T/tmplmlSqK'"
      ]
     },
     "execution_count": 86,
     "metadata": {},
     "output_type": "execute_result"
    }
   ],
   "source": [
    "f.name"
   ]
  },
  {
   "cell_type": "code",
   "execution_count": 92,
   "metadata": {
    "collapsed": false
   },
   "outputs": [],
   "source": [
    "# Go to the top of the file\n",
    "f.seek(10)\n",
    "\n",
    "# Read the file\n",
    "f.read()\n",
    "f.close()"
   ]
  },
  {
   "cell_type": "code",
   "execution_count": null,
   "metadata": {
    "collapsed": false
   },
   "outputs": [],
   "source": []
  },
  {
   "cell_type": "code",
   "execution_count": 93,
   "metadata": {
    "collapsed": true
   },
   "outputs": [],
   "source": [
    "#7   Find The Max Value In A Dictionary"
   ]
  },
  {
   "cell_type": "code",
   "execution_count": 94,
   "metadata": {
    "collapsed": true
   },
   "outputs": [],
   "source": [
    "ages = {'John': 21,\n",
    "        'Mike': 52,\n",
    "        'Sarah': 12,\n",
    "        'Bob': 43\n",
    "       }"
   ]
  },
  {
   "cell_type": "code",
   "execution_count": 95,
   "metadata": {
    "collapsed": false
   },
   "outputs": [
    {
     "data": {
      "text/plain": [
       "(52, 'Mike')"
      ]
     },
     "execution_count": 95,
     "metadata": {},
     "output_type": "execute_result"
    }
   ],
   "source": [
    "max(zip(ages.values(), ages.keys()))"
   ]
  },
  {
   "cell_type": "code",
   "execution_count": null,
   "metadata": {
    "collapsed": true
   },
   "outputs": [],
   "source": []
  },
  {
   "cell_type": "code",
   "execution_count": 96,
   "metadata": {
    "collapsed": true
   },
   "outputs": [],
   "source": [
    "#8             Formatting Numbers"
   ]
  },
  {
   "cell_type": "code",
   "execution_count": 97,
   "metadata": {
    "collapsed": true
   },
   "outputs": [],
   "source": [
    "annual_revenue = 9282904.9282872782"
   ]
  },
  {
   "cell_type": "code",
   "execution_count": 98,
   "metadata": {
    "collapsed": false
   },
   "outputs": [
    {
     "data": {
      "text/plain": [
       "'9282904.93'"
      ]
     },
     "execution_count": 98,
     "metadata": {},
     "output_type": "execute_result"
    }
   ],
   "source": [
    "# Format rounded to two decimal places\n",
    "format(annual_revenue, '0.2f')"
   ]
  },
  {
   "cell_type": "code",
   "execution_count": 99,
   "metadata": {
    "collapsed": false
   },
   "outputs": [
    {
     "data": {
      "text/plain": [
       "'9,282,904.9'"
      ]
     },
     "execution_count": 99,
     "metadata": {},
     "output_type": "execute_result"
    }
   ],
   "source": [
    "# Format with commas and  rounded to one decimal place\n",
    "format(annual_revenue, '0,.1f')"
   ]
  },
  {
   "cell_type": "code",
   "execution_count": 100,
   "metadata": {
    "collapsed": false
   },
   "outputs": [
    {
     "data": {
      "text/plain": [
       "'9.282905e+06'"
      ]
     },
     "execution_count": 100,
     "metadata": {},
     "output_type": "execute_result"
    }
   ],
   "source": [
    "# Format as scientific notation\n",
    "format(annual_revenue, 'e')"
   ]
  },
  {
   "cell_type": "code",
   "execution_count": 101,
   "metadata": {
    "collapsed": false
   },
   "outputs": [
    {
     "data": {
      "text/plain": [
       "'9.28E+06'"
      ]
     },
     "execution_count": 101,
     "metadata": {},
     "output_type": "execute_result"
    }
   ],
   "source": [
    "# Format as scientific notation rounded to two deciminals\n",
    "format(annual_revenue, '0.2E')"
   ]
  },
  {
   "cell_type": "code",
   "execution_count": null,
   "metadata": {
    "collapsed": true
   },
   "outputs": [],
   "source": []
  },
  {
   "cell_type": "code",
   "execution_count": 102,
   "metadata": {
    "collapsed": true
   },
   "outputs": [],
   "source": [
    "#9    Hard Wrapping Text"
   ]
  },
  {
   "cell_type": "code",
   "execution_count": 103,
   "metadata": {
    "collapsed": true
   },
   "outputs": [],
   "source": [
    "import textwrap"
   ]
  },
  {
   "cell_type": "code",
   "execution_count": 104,
   "metadata": {
    "collapsed": true
   },
   "outputs": [],
   "source": [
    "# Create some text\n",
    "excerpt = 'Then there was the bad weather. It would come in one day when the fall was over. We would have to shut the windows in the night against the rain and the cold wind would strip the leaves from the trees in the Place Contrescarpe. The leaves lay sodden in the rain and the wind drove the rain against the big green autobus at the terminal and the Café des Amateurs was crowded and the windows misted over from the heat and the smoke inside.'\n"
   ]
  },
  {
   "cell_type": "code",
   "execution_count": 108,
   "metadata": {
    "collapsed": true
   },
   "outputs": [],
   "source": [
    "# Hard wrap the excerpt at 50 characters -  --\n",
    "print(textwrap.wrap(excerpt, 50))"
   ]
  },
  {
   "cell_type": "code",
   "execution_count": null,
   "metadata": {
    "collapsed": true
   },
   "outputs": [],
   "source": []
  },
  {
   "cell_type": "code",
   "execution_count": 109,
   "metadata": {
    "collapsed": true
   },
   "outputs": [],
   "source": [
    "# 10         Priority Queues"
   ]
  },
  {
   "cell_type": "code",
   "execution_count": 110,
   "metadata": {
    "collapsed": true
   },
   "outputs": [],
   "source": [
    "import heapq"
   ]
  },
  {
   "cell_type": "code",
   "execution_count": 134,
   "metadata": {
    "collapsed": false
   },
   "outputs": [],
   "source": [
    "# Create a priority queue abstract base class\n",
    "class priority_queue:\n",
    "    # Initialize the instance\n",
    "    def __init__(self):\n",
    "        # Create a list to use as the queue\n",
    "        self._queue = []\n",
    "        # Create an index to use as ordering\n",
    "        self._index = 0\n",
    "        print(self._queue)\n",
    "\n",
    "    # Create a function to add a task to the queue\n",
    "    def add_task(self, item, priority):\n",
    "        # Push the arguments to the _queue using a heap\n",
    "        heapq.heappush(self._queue, (-priority, self._index, item))\n",
    "        # Add one to the index\n",
    "        self._index += 1\n",
    "\n",
    "    # Create a function to get the next item from the queue\n",
    "    def next_task(self):\n",
    "        # Return the next item in the queue\n",
    "        return heapq.heappop(self._queue)[-1]\n",
    "    \n",
    "    def print_queue(self):\n",
    "        print(self._queue)\n",
    "        "
   ]
  },
  {
   "cell_type": "code",
   "execution_count": 135,
   "metadata": {
    "collapsed": false
   },
   "outputs": [],
   "source": [
    "# Create a priority queue called task_list\n",
    "task_list = priority_queue()"
   ]
  },
  {
   "cell_type": "code",
   "execution_count": 136,
   "metadata": {
    "collapsed": true
   },
   "outputs": [],
   "source": [
    "# Add an item to the queue\n",
    "task_list.add_task('Clean Dishes', 1)\n",
    "\n",
    "# Add an item to the queue\n",
    "task_list.add_task('Wash Car', 2)\n",
    "\n",
    "# Add an item to the queue\n",
    "task_list.add_task('Walk Dog', 3)"
   ]
  },
  {
   "cell_type": "code",
   "execution_count": 137,
   "metadata": {
    "collapsed": false
   },
   "outputs": [
    {
     "data": {
      "text/plain": [
       "'Walk Dog'"
      ]
     },
     "execution_count": 137,
     "metadata": {},
     "output_type": "execute_result"
    }
   ],
   "source": [
    "# Retrieve items from the queue\n",
    "task_list.next_task()"
   ]
  },
  {
   "cell_type": "code",
   "execution_count": 138,
   "metadata": {
    "collapsed": false
   },
   "outputs": [
    {
     "data": {
      "text/plain": [
       "'Wash Car'"
      ]
     },
     "execution_count": 138,
     "metadata": {},
     "output_type": "execute_result"
    }
   ],
   "source": [
    "# Retrieve items from the queue\n",
    "task_list.next_task()"
   ]
  },
  {
   "cell_type": "code",
   "execution_count": 139,
   "metadata": {
    "collapsed": false
   },
   "outputs": [],
   "source": [
    "task_list.print_queue()"
   ]
  },
  {
   "cell_type": "code",
   "execution_count": 140,
   "metadata": {
    "collapsed": true
   },
   "outputs": [],
   "source": [
    "# Add an item to the queue\n",
    "task_list.add_task('Walk Dog', 3)"
   ]
  },
  {
   "cell_type": "code",
   "execution_count": null,
   "metadata": {
    "collapsed": true
   },
   "outputs": [],
   "source": []
  },
  {
   "cell_type": "code",
   "execution_count": 141,
   "metadata": {
    "collapsed": true
   },
   "outputs": [],
   "source": [
    "#  11      Streaming Data Pipeline"
   ]
  },
  {
   "cell_type": "code",
   "execution_count": 142,
   "metadata": {
    "collapsed": true
   },
   "outputs": [],
   "source": [
    "raw_data = [1,2,3,4,5,6,7,8,9,10]"
   ]
  },
  {
   "cell_type": "code",
   "execution_count": 143,
   "metadata": {
    "collapsed": true
   },
   "outputs": [],
   "source": [
    "# Define a generator that yields input+6\n",
    "def add_6(numbers):\n",
    "    for x in numbers:\n",
    "        output = x+6\n",
    "        yield output\n",
    "\n",
    "# Define a generator that yields input-2\n",
    "def subtract_2(numbers):\n",
    "    for x in numbers:\n",
    "        output = x-2\n",
    "        yield output\n",
    "\n",
    "# Define a generator that yields input*100        \n",
    "def multiply_by_100(numbers):\n",
    "    for x in numbers:\n",
    "        output = x*100\n",
    "        yield output"
   ]
  },
  {
   "cell_type": "code",
   "execution_count": 144,
   "metadata": {
    "collapsed": true
   },
   "outputs": [],
   "source": [
    "# Step 1 of the pipeline\n",
    "step1 = add_6(raw_data)\n",
    "\n",
    "# Step 2 of the pipeline\n",
    "step2 = subtract_2(step1)\n",
    "\n",
    "# Step 3 of the pipeline\n",
    "pipeline = multiply_by_100(step2)"
   ]
  },
  {
   "cell_type": "code",
   "execution_count": 145,
   "metadata": {
    "collapsed": false
   },
   "outputs": [
    {
     "data": {
      "text/plain": [
       "500"
      ]
     },
     "execution_count": 145,
     "metadata": {},
     "output_type": "execute_result"
    }
   ],
   "source": [
    "# First element of the raw data\n",
    "next(pipeline)"
   ]
  },
  {
   "cell_type": "code",
   "execution_count": 146,
   "metadata": {
    "collapsed": false
   },
   "outputs": [
    {
     "data": {
      "text/plain": [
       "600"
      ]
     },
     "execution_count": 146,
     "metadata": {},
     "output_type": "execute_result"
    }
   ],
   "source": [
    "# Second element of the raw data\n",
    "next(pipeline)"
   ]
  },
  {
   "cell_type": "code",
   "execution_count": null,
   "metadata": {
    "collapsed": false
   },
   "outputs": [],
   "source": []
  },
  {
   "cell_type": "code",
   "execution_count": 153,
   "metadata": {
    "collapsed": true
   },
   "outputs": [],
   "source": [
    "#12  Construct A Dictionary From Multiple Lists"
   ]
  },
  {
   "cell_type": "code",
   "execution_count": 154,
   "metadata": {
    "collapsed": true
   },
   "outputs": [],
   "source": [
    "# Create a list of theofficer's name\n",
    "officer_names = ['Sodoni Dogla', 'Chris Jefferson', 'Jessica Billars', 'Michael Mulligan', 'Steven Johnson']\n",
    "\n",
    "# Create a list of the officer's army\n",
    "officer_armies = ['Purple Army', 'Orange Army', 'Green Army', 'Red Army', 'Blue Army']"
   ]
  },
  {
   "cell_type": "code",
   "execution_count": 155,
   "metadata": {
    "collapsed": false
   },
   "outputs": [
    {
     "data": {
      "text/plain": [
       "{'Chris Jefferson': 'Orange Army',\n",
       " 'Jessica Billars': 'Green Army',\n",
       " 'Michael Mulligan': 'Red Army',\n",
       " 'Sodoni Dogla': 'Purple Army',\n",
       " 'Steven Johnson': 'Blue Army'}"
      ]
     },
     "execution_count": 155,
     "metadata": {},
     "output_type": "execute_result"
    }
   ],
   "source": [
    "# Create a dictionary that is the zip of the two lists\n",
    "dict(zip(officer_names, officer_armies))\n"
   ]
  },
  {
   "cell_type": "code",
   "execution_count": null,
   "metadata": {
    "collapsed": true
   },
   "outputs": [],
   "source": []
  },
  {
   "cell_type": "code",
   "execution_count": 157,
   "metadata": {
    "collapsed": true
   },
   "outputs": [],
   "source": [
    "#13  All Combinations For A List Of Objects"
   ]
  },
  {
   "cell_type": "code",
   "execution_count": 158,
   "metadata": {
    "collapsed": true
   },
   "outputs": [],
   "source": [
    "# Import combinations with replacements from itertools\n",
    "from itertools import combinations_with_replacement"
   ]
  },
  {
   "cell_type": "code",
   "execution_count": 160,
   "metadata": {
    "collapsed": false
   },
   "outputs": [
    {
     "data": {
      "text/plain": [
       "[[('warplanes',), ('armor',), ('infantry',)],\n",
       " [('warplanes', 'warplanes'),\n",
       "  ('warplanes', 'armor'),\n",
       "  ('warplanes', 'infantry'),\n",
       "  ('armor', 'armor'),\n",
       "  ('armor', 'infantry'),\n",
       "  ('infantry', 'infantry')],\n",
       " [('warplanes', 'warplanes', 'warplanes'),\n",
       "  ('warplanes', 'warplanes', 'armor'),\n",
       "  ('warplanes', 'warplanes', 'infantry'),\n",
       "  ('warplanes', 'armor', 'armor'),\n",
       "  ('warplanes', 'armor', 'infantry'),\n",
       "  ('warplanes', 'infantry', 'infantry'),\n",
       "  ('armor', 'armor', 'armor'),\n",
       "  ('armor', 'armor', 'infantry'),\n",
       "  ('armor', 'infantry', 'infantry'),\n",
       "  ('infantry', 'infantry', 'infantry')]]"
      ]
     },
     "execution_count": 160,
     "metadata": {},
     "output_type": "execute_result"
    }
   ],
   "source": [
    "# Create an empty list object to hold the results of the loop\n",
    "list_of_objects = ['warplanes', 'armor', 'infantry']\n",
    "combinations = []\n",
    "\n",
    "# Create a loop for every item in the length of list_of_objects, that,\n",
    "for i in list(range(len(list_of_objects))):\n",
    "    # Finds every combination (with replacement) for each object in the list\n",
    "    combinations.append(list(combinations_with_replacement(list_of_objects, i+1)))\n",
    "\n",
    "# View the results\n",
    "combinations"
   ]
  },
  {
   "cell_type": "code",
   "execution_count": 161,
   "metadata": {
    "collapsed": false
   },
   "outputs": [
    {
     "data": {
      "text/plain": [
       "[('warplanes',),\n",
       " ('armor',),\n",
       " ('infantry',),\n",
       " ('warplanes', 'warplanes'),\n",
       " ('warplanes', 'armor'),\n",
       " ('warplanes', 'infantry'),\n",
       " ('armor', 'armor'),\n",
       " ('armor', 'infantry'),\n",
       " ('infantry', 'infantry'),\n",
       " ('warplanes', 'warplanes', 'warplanes'),\n",
       " ('warplanes', 'warplanes', 'armor'),\n",
       " ('warplanes', 'warplanes', 'infantry'),\n",
       " ('warplanes', 'armor', 'armor'),\n",
       " ('warplanes', 'armor', 'infantry'),\n",
       " ('warplanes', 'infantry', 'infantry'),\n",
       " ('armor', 'armor', 'armor'),\n",
       " ('armor', 'armor', 'infantry'),\n",
       " ('armor', 'infantry', 'infantry'),\n",
       " ('infantry', 'infantry', 'infantry')]"
      ]
     },
     "execution_count": 161,
     "metadata": {},
     "output_type": "execute_result"
    }
   ],
   "source": [
    "# Flatten the list of lists into just a list\n",
    "combinations = [i for row in combinations for i in row]\n",
    "\n",
    "# View the results\n",
    "combinations"
   ]
  },
  {
   "cell_type": "code",
   "execution_count": null,
   "metadata": {
    "collapsed": true
   },
   "outputs": [],
   "source": []
  },
  {
   "cell_type": "code",
   "execution_count": 162,
   "metadata": {
    "collapsed": true
   },
   "outputs": [],
   "source": [
    "# 14            Apply Operations Over Items In A List"
   ]
  },
  {
   "cell_type": "code",
   "execution_count": 163,
   "metadata": {
    "collapsed": true
   },
   "outputs": [],
   "source": [
    "#method 1\n",
    "# Create a list of casualties from battles\n",
    "battleDeaths = [482, 93, 392, 920, 813, 199, 374, 237, 244]"
   ]
  },
  {
   "cell_type": "code",
   "execution_count": 164,
   "metadata": {
    "collapsed": true
   },
   "outputs": [],
   "source": [
    "# Create a function that updates all battle deaths by adding 100\n",
    "def updated(x): return x + 100"
   ]
  },
  {
   "cell_type": "code",
   "execution_count": 165,
   "metadata": {
    "collapsed": false
   },
   "outputs": [
    {
     "data": {
      "text/plain": [
       "[582, 193, 492, 1020, 913, 299, 474, 337, 344]"
      ]
     },
     "execution_count": 165,
     "metadata": {},
     "output_type": "execute_result"
    }
   ],
   "source": [
    "# Create a list that applies updated() to all elements of battleDeaths\n",
    "list(map(updated, battleDeaths))"
   ]
  },
  {
   "cell_type": "code",
   "execution_count": 166,
   "metadata": {
    "collapsed": true
   },
   "outputs": [],
   "source": [
    "#Method 2: for x in y\n",
    "# Create a list of deaths\n",
    "casualties = [482, 93, 392, 920, 813, 199, 374, 237, 244]\n",
    "casualtiesUpdated = []\n",
    "for x in casualties:\n",
    "    casualtiesUpdated.append(x + 100)\n",
    "    "
   ]
  },
  {
   "cell_type": "code",
   "execution_count": 167,
   "metadata": {
    "collapsed": false
   },
   "outputs": [
    {
     "data": {
      "text/plain": [
       "[582, 193, 492, 1020, 913, 299, 474, 337, 344]"
      ]
     },
     "execution_count": 167,
     "metadata": {},
     "output_type": "execute_result"
    }
   ],
   "source": [
    "# View casualties variables\n",
    "casualtiesUpdated"
   ]
  },
  {
   "cell_type": "code",
   "execution_count": 169,
   "metadata": {
    "collapsed": true
   },
   "outputs": [],
   "source": [
    "# Method 3: lambda functions"
   ]
  },
  {
   "cell_type": "code",
   "execution_count": 171,
   "metadata": {
    "collapsed": false
   },
   "outputs": [
    {
     "data": {
      "text/plain": [
       "[582, 193, 492, 1020, 913, 299, 474, 337, 344]"
      ]
     },
     "execution_count": 171,
     "metadata": {},
     "output_type": "execute_result"
    }
   ],
   "source": [
    "# Map the lambda function x() over casualties\n",
    "list(map((lambda x: x + 100), casualties))"
   ]
  },
  {
   "cell_type": "code",
   "execution_count": null,
   "metadata": {
    "collapsed": true
   },
   "outputs": [],
   "source": []
  },
  {
   "cell_type": "code",
   "execution_count": 172,
   "metadata": {
    "collapsed": true
   },
   "outputs": [],
   "source": [
    "# Cartesian Product\n",
    "# Create two lists\n",
    "i = [1,2,3,4,5]\n",
    "j = [1,2,3,4,5]"
   ]
  },
  {
   "cell_type": "code",
   "execution_count": 173,
   "metadata": {
    "collapsed": false
   },
   "outputs": [
    {
     "data": {
      "text/plain": [
       "[(1, 1),\n",
       " (1, 2),\n",
       " (1, 3),\n",
       " (1, 4),\n",
       " (1, 5),\n",
       " (2, 1),\n",
       " (2, 2),\n",
       " (2, 3),\n",
       " (2, 4),\n",
       " (2, 5),\n",
       " (3, 1),\n",
       " (3, 2),\n",
       " (3, 3),\n",
       " (3, 4),\n",
       " (3, 5),\n",
       " (4, 1),\n",
       " (4, 2),\n",
       " (4, 3),\n",
       " (4, 4),\n",
       " (4, 5),\n",
       " (5, 1),\n",
       " (5, 2),\n",
       " (5, 3),\n",
       " (5, 4),\n",
       " (5, 5)]"
      ]
     },
     "execution_count": 173,
     "metadata": {},
     "output_type": "execute_result"
    }
   ],
   "source": [
    "# List every single x in i with every single y (i.e. Cartesian product)\n",
    "[(x, y) for x in i for y in j]"
   ]
  },
  {
   "cell_type": "code",
   "execution_count": 177,
   "metadata": {
    "collapsed": true
   },
   "outputs": [],
   "source": [
    "# An alternative way to do the cartesian product\n",
    "\n",
    "\n",
    "# for two sets, find the the cartisan product\n",
    "for i in itertools.product([1,2,3,4,5], [1,2,3,4,5]):\n",
    "    # and print it\n",
    "    print(i)"
   ]
  },
  {
   "cell_type": "code",
   "execution_count": null,
   "metadata": {
    "collapsed": true
   },
   "outputs": [],
   "source": []
  },
  {
   "cell_type": "code",
   "execution_count": null,
   "metadata": {
    "collapsed": true
   },
   "outputs": [],
   "source": []
  }
 ],
 "metadata": {
  "anaconda-cloud": {},
  "kernelspec": {
   "display_name": "Python [conda root]",
   "language": "python",
   "name": "conda-root-py"
  },
  "language_info": {
   "codemirror_mode": {
    "name": "ipython",
    "version": 2
   },
   "file_extension": ".py",
   "mimetype": "text/x-python",
   "name": "python",
   "nbconvert_exporter": "python",
   "pygments_lexer": "ipython2",
   "version": "2.7.12"
  }
 },
 "nbformat": 4,
 "nbformat_minor": 1
}
